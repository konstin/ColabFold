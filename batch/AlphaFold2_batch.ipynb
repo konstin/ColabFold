{
 "nbformat": 4,
 "nbformat_minor": 0,
 "metadata": {
  "accelerator": "GPU",
  "colab": {
   "name": "AlphaFold2_batch.ipynb",
   "provenance": [],
   "collapsed_sections": [],
   "include_colab_link": true
  },
  "kernelspec": {
   "name": "python3",
   "language": "python",
   "display_name": "Python 3 (ipykernel)"
  },
  "language_info": {
   "name": "python"
  }
 },
 "cells": [
  {
   "cell_type": "markdown",
   "metadata": {
    "id": "view-in-github",
    "colab_type": "text"
   },
   "source": [
    "<a href=\"https://colab.research.google.com/github/sokrypton/ColabFold/blob/main/batch/AlphaFold2_batch.ipynb\" target=\"_parent\"><img src=\"https://colab.research.google.com/assets/colab-badge.svg\" alt=\"Open In Colab\"/></a>"
   ]
  },
  {
   "cell_type": "markdown",
   "metadata": {
    "id": "G4yBrceuFbf3"
   },
   "source": [
    "#ColabFold: AlphaFold2 w/ MMseqs2 BATCH\n",
    "\n",
    "<img src=\"https://raw.githubusercontent.com/sokrypton/ColabFold/main/.github/ColabFold_Marv_Logo_Small.png\" height=\"256\" align=\"right\" style=\"height:256px\">\n",
    "\n",
    "Easy to use AlphaFold2 [(Jumper et al. 2021)](https://www.nature.com/articles/s41586-021-03819-2) protein structure prediction using multiple sequence alignments generated through an MMseqs2 API. For details, refer to our manuscript:\n",
    "\n",
    "[Mirdita M, Ovchinnikov S, Steinegger M. ColabFold - Making protein folding accessible to all.\n",
    "*bioRxiv*, 2021](https://www.biorxiv.org/content/10.1101/2021.08.15.456425v1) \n",
    "\n",
    "- This notebook provides basic functionality, for more advanced options (such as modeling heterocomplexes, increasing recycles, sampling, etc.) see our [advanced notebook](https://colab.research.google.com/github/sokrypton/ColabFold/blob/main/beta/AlphaFold2_advanced.ipynb).\n",
    "- This notebook replaces the homology detection of AlphaFold2 with MMseqs2. For a comparision against the [Deepmind Colab](https://colab.research.google.com/github/deepmind/alphafold/blob/main/notebooks/AlphaFold.ipynb) and the full [AlphaFold2](https://github.com/deepmind/alphafold) system read our [preprint](https://www.biorxiv.org/content/10.1101/2021.08.15.456425v1). \n",
    "\n",
    "\n",
    "\n",
    "**Usage**\n",
    "\n",
    "`input_dir` directory with only fasta files or MSAs stored in Google Drive. MSAs need to be A3M formatted and have an `.a3m` extention. For MSAs MMseqs2 will not be called.\n",
    "\n",
    "`result_dir` results will be written to the result directory in Google Drive\n",
    "\n",
    "\n",
    "<strong>For more details, see <a href=\"#Instructions\">bottom</a> of the notebook and checkout the [ColabFold GitHub](https://github.com/sokrypton/ColabFold). </strong>"
   ]
  },
  {
   "cell_type": "code",
   "metadata": {
    "cellView": "form",
    "id": "AwvIWN3HDyUJ"
   },
   "source": [
    "#@title Mount google drive\n",
    "from google.colab import drive\n",
    "drive.mount('/content/drive')"
   ],
   "execution_count": null,
   "outputs": []
  },
  {
   "cell_type": "code",
   "metadata": {
    "id": "kOblAo-xetgx",
    "cellView": "form"
   },
   "source": [
    "#@title Input protein sequence, then hit `Runtime` -> `Run all`\n",
    "\n",
    "input_dir = '/content/drive/MyDrive/input_fasta' #@param {type:\"string\"}\n",
    "result_dir = '/content/drive/MyDrive/result' #@param {type:\"string\"}\n",
    "\n",
    "# number of models to use\n",
    "#@markdown ---\n",
    "#@markdown ### Advanced settings\n",
    "msa_mode = \"MMseqs2 (UniRef+Environmental)\" #@param [\"MMseqs2 (UniRef+Environmental)\", \"MMseqs2 (UniRef only)\",\"single_sequence\",\"custom\"]\n",
    "num_models = 5 #@param [1,2,3,4,5] {type:\"raw\"}\n",
    "use_msa = True if msa_mode.startswith(\"MMseqs2\") else False\n",
    "use_custom_msa = False\n",
    "use_amber = False #@param {type:\"boolean\"}\n",
    "use_templates = False #@param {type:\"boolean\"}\n",
    "do_not_overwite_results = True #@param {type:\"boolean\"}\n",
    "\n",
    "homooligomer = 1 \n",
    "with open(f\"run.log\", \"w\") as text_file:\n",
    "    text_file.write(\"num_models=%s\\n\" % num_models)\n",
    "    text_file.write(\"use_amber=%s\\n\" % use_amber)\n",
    "    text_file.write(\"use_msa=%s\\n\" % use_msa)\n",
    "    text_file.write(\"msa_mode=%s\\n\" % msa_mode)\n",
    "    text_file.write(\"use_templates=%s\\n\" % use_templates)\n"
   ],
   "execution_count": null,
   "outputs": []
  },
  {
   "cell_type": "code",
   "metadata": {
    "id": "iccGdbe_Pmt9",
    "cellView": "form"
   },
   "source": [
    "#@title Install dependencies\n",
    "%%bash -s $use_amber $use_msa $use_templates\n",
    "\n",
    "set -e\n",
    "\n",
    "USE_AMBER=$1\n",
    "USE_MSA=$2\n",
    "USE_TEMPLATES=$3\n",
    "\n",
    "# install dependencies\n",
    "pip install -q biopython dm-haiku ml-collections py3Dmol\n",
    "# Trick for dev stage because otherwise pip won't install newer git versions\n",
    "pip uninstall -y -q colabfold\n",
    "pip install -q git+https://github.com/konstin/ColabFold\n",
    "\n",
    "# Download params (~1min)\n",
    "python -m colabfold.download\n",
    "\n",
    "# download libraries for interfacing with MMseqs2 API\n",
    "if [ ${USE_MSA} == \"True\" ] || [ ${USE_TEMPLATES} == \"True\" ]; then\n",
    "  if [ ! -f MMSEQ2_READY ]; then\n",
    "    apt-get -qq -y update 2>&1 1>/dev/null\n",
    "    apt-get -qq -y install jq curl zlib1g gawk 2>&1 1>/dev/null\n",
    "    touch MMSEQ2_READY\n",
    "  fi\n",
    "fi\n",
    "# setup conda\n",
    "if [ ${USE_AMBER} == \"True\" ] || [ ${USE_TEMPLATES} == \"True\" ]; then\n",
    "  if [ ! -f CONDA_READY ]; then\n",
    "    wget -qnc https://repo.anaconda.com/miniconda/Miniconda3-latest-Linux-x86_64.sh\n",
    "    bash Miniconda3-latest-Linux-x86_64.sh -bfp /usr/local 2>&1 1>/dev/null\n",
    "    rm Miniconda3-latest-Linux-x86_64.sh\n",
    "    touch CONDA_READY\n",
    "  fi\n",
    "fi\n",
    "# setup template search\n",
    "if [ ${USE_TEMPLATES} == \"True\" ] && [ ! -f HH_READY ]; then\n",
    "  conda install -y -q -c conda-forge -c bioconda kalign3=3.2.2 hhsuite=3.3.0 python=3.7 2>&1 1>/dev/null\n",
    "  touch HH_READY\n",
    "fi\n",
    "# setup openmm for amber refinement\n",
    "if [ ${USE_AMBER} == \"True\" ] && [ ! -f AMBER_READY ]; then\n",
    "  conda install -y -q -c conda-forge openmm=7.5.1 python=3.7 pdbfixer 2>&1 1>/dev/null\n",
    "  wget -qnc https://raw.githubusercontent.com/deepmind/alphafold/main/docker/openmm.patch\n",
    "  (cd /usr/local/lib/python3.7/site-packages; patch -s -p0 < /content/openmm.patch)\n",
    "  wget -qnc https://git.scicore.unibas.ch/schwede/openstructure/-/raw/7102c63615b64735c4941278d92b554ec94415f8/modules/mol/alg/src/stereo_chemical_props.txt\n",
    "  touch AMBER_READY\n",
    "fi"
   ],
   "execution_count": null,
   "outputs": []
  },
  {
   "cell_type": "code",
   "metadata": {
    "id": "hUYApPElB30u",
    "cellView": "form"
   },
   "source": [
    "#@title Run Prediction\n",
    "\n",
    "from colabfold.batch import get_queries, run\n",
    "import logging\n",
    "\n",
    "logging.basicConfig(level=logging.INFO, format=\"%(asctime)s %(message)s\")\n",
    "\n",
    "queries = get_queries(input_dir)\n",
    "run(queries, result_dir, use_templates, use_amber, msa_mode, num_models, homooligomer, \".\", do_not_overwite_results)"
   ],
   "execution_count": null,
   "outputs": []
  },
  {
   "cell_type": "markdown",
   "metadata": {
    "id": "UGUBLzB3C6WN"
   },
   "source": [
    "# Instructions <a name=\"Instructions\"></a>\n",
    "**Quick start**\n",
    "1. Upload your single fasta files to a folder in your Google Drive\n",
    "2. Define path to the fold containing the fasta files (`input_dir`) define an outdir (`output_dir`)\n",
    "3. Press \"Runtime\" -> \"Run all\".\n",
    "\n",
    "**Result zip file contents**\n",
    "\n",
    "At the end of the job a all results `jobname.result.zip` will be uploaded to your (`output_dir`) Google Drive. Each zip contains one protein.\n",
    "\n",
    "1. PDB formatted structures sorted by avg. pIDDT. (unrelaxed and relaxed if `use_amber` is enabled).\n",
    "2. Plots of the model quality.\n",
    "3. Plots of the MSA coverage.\n",
    "4. Parameter log file.\n",
    "5. A3M formatted input MSA.\n",
    "6. BibTeX file with citations for all used tools and databases.\n",
    "\n",
    "\n",
    "**Troubleshooting**\n",
    "* Check that the runtime type is set to GPU at \"Runtime\" -> \"Change runtime type\".\n",
    "* Try to restart the session \"Runtime\" -> \"Factory reset runtime\".\n",
    "* Check your input sequence.\n",
    "\n",
    "**Known issues**\n",
    "* Google Colab assigns different types of GPUs with varying amount of memory. Some might not have enough memory to predict the structure for a long sequence.\n",
    "* Google Colab assigns different types of GPUs with varying amount of memory. Some might not have enough memory to predict the structure for a long sequence.\n",
    "* Your browser can block the pop-up for downloading the result file. You can choose the `save_to_google_drive` option to upload to Google Drive instead or manually download the result file: Click on the little folder icon to the left, navigate to file: `jobname.result.zip`, right-click and select \\\"Download\\\" (see [screenshot](https://pbs.twimg.com/media/E6wRW2lWUAEOuoe?format=jpg&name=small)).\n",
    "\n",
    "**Limitations**\n",
    "* Computing resources: Our MMseqs2 API can handle ~20-50k requests per day.\n",
    "* MSAs: MMseqs2 is very precise and sensitive but might find less hits compared to HHblits/HMMer searched against BFD or Mgnify.\n",
    "* We recommend to additionally use the full [AlphaFold2 pipeline](https://github.com/deepmind/alphafold).\n",
    "\n",
    "**Description of the plots**\n",
    "*   **Number of sequences per position** - We want to see at least 30 sequences per position, for best performance, ideally 100 sequences.\n",
    "*   **Predicted lDDT per position** - model confidence (out of 100) at each position. The higher the better.\n",
    "*   **Predicted Alignment Error** - For homooligomers, this could be a useful metric to assess how confident the model is about the interface. The lower the better.\n",
    "\n",
    "**Bugs**\n",
    "- If you encounter any bugs, please report the issue to https://github.com/sokrypton/ColabFold/issues\n",
    "\n",
    "\n",
    "**Acknowledgments**\n",
    "- We thank the AlphaFold team for developing an excellent model and open sourcing the software. \n",
    "\n",
    "- [Söding Lab](https://www.mpibpc.mpg.de/soeding) for providing the computational resources for the MMseqs2 server\n",
    "\n",
    "- Do-Yoon Kim for creating the ColabFold logo.\n",
    "\n",
    "- A colab by Sergey Ovchinnikov ([@sokrypton](https://twitter.com/sokrypton)), Milot Mirdita ([@milot_mirdita](https://twitter.com/milot_mirdita)) and Martin Steinegger ([@thesteinegger](https://twitter.com/thesteinegger)).\n"
   ]
  }
 ]
}